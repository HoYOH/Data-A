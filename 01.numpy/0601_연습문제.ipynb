{
 "metadata": {
  "language_info": {
   "codemirror_mode": {
    "name": "ipython",
    "version": 3
   },
   "file_extension": ".py",
   "mimetype": "text/x-python",
   "name": "python",
   "nbconvert_exporter": "python",
   "pygments_lexer": "ipython3",
   "version": "3.9.5"
  },
  "orig_nbformat": 2,
  "kernelspec": {
   "name": "python395jvsc74a57bd0266817064e548772ee6e8fd4a6ef3b230e60eec7e978c53ff5e842820ea93e45",
   "display_name": "Python 3.9.5 64-bit"
  },
  "metadata": {
   "interpreter": {
    "hash": "266817064e548772ee6e8fd4a6ef3b230e60eec7e978c53ff5e842820ea93e45"
   }
  }
 },
 "nbformat": 4,
 "nbformat_minor": 2,
 "cells": [
  {
   "source": [
    "### 8. 정규분포 "
   ],
   "cell_type": "markdown",
   "metadata": {}
  },
  {
   "cell_type": "code",
   "execution_count": 2,
   "metadata": {},
   "outputs": [],
   "source": [
    "import numpy as np"
   ]
  },
  {
   "cell_type": "code",
   "execution_count": 3,
   "metadata": {},
   "outputs": [
    {
     "output_type": "stream",
     "name": "stdout",
     "text": [
      "10149.0, 10218.0, 10175.0, 10093.0, 10149.0, 10077.0, 10191.0, 10257.0, 10268.0, 10311.0, "
     ]
    }
   ],
   "source": [
    "np.random.seed(2021)\n",
    "price=10000\n",
    "rate = np.random.normal(0,1,10)\n",
    "for i in range(10):\n",
    "    price += np.round(price * rate[i] * 0.01)\n",
    "    print(price, end=', ')"
   ]
  },
  {
   "cell_type": "code",
   "execution_count": 6,
   "metadata": {},
   "outputs": [],
   "source": [
    "np.random.seed(2021)\n",
    "price_list=[]\n",
    "rate = np.random.normal(0,1,250)\n",
    "price=10000\n",
    "for i in range(250):\n",
    "    price += np.round(price * rate[i] * 0.01)\n",
    "    price_list.append(price)\n",
    "price_array = np.array(price_list, int)"
   ]
  },
  {
   "cell_type": "code",
   "execution_count": 8,
   "metadata": {},
   "outputs": [
    {
     "output_type": "stream",
     "name": "stdout",
     "text": [
      "[10149 10218 10175 10093 10149 10077 10191 10257 10268 10311]\n[12072 12210 12255 12359 12292 12262 12136 12010 11984 12113]\n"
     ]
    }
   ],
   "source": [
    "print(price_array[:10])\n",
    "print(price_array[-10:])"
   ]
  },
  {
   "cell_type": "code",
   "execution_count": null,
   "metadata": {},
   "outputs": [],
   "source": []
  }
 ]
}