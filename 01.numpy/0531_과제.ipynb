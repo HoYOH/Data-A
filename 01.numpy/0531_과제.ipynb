{
 "metadata": {
  "language_info": {
   "codemirror_mode": {
    "name": "ipython",
    "version": 3
   },
   "file_extension": ".py",
   "mimetype": "text/x-python",
   "name": "python",
   "nbconvert_exporter": "python",
   "pygments_lexer": "ipython3",
   "version": "3.8.8"
  },
  "orig_nbformat": 2,
  "kernelspec": {
   "name": "python388jvsc74a57bd0c81169c30fb96244cfba0db287a0d3fd5325268de070a7a6116eecd4596df902",
   "display_name": "Python 3.8.8 64-bit ('base': conda)"
  },
  "metadata": {
   "interpreter": {
    "hash": "266817064e548772ee6e8fd4a6ef3b230e60eec7e978c53ff5e842820ea93e45"
   }
  }
 },
 "nbformat": 4,
 "nbformat_minor": 2,
 "cells": [
  {
   "source": [
    "### 0531 과제"
   ],
   "cell_type": "markdown",
   "metadata": {}
  },
  {
   "cell_type": "code",
   "execution_count": 2,
   "metadata": {},
   "outputs": [],
   "source": [
    "import numpy as np"
   ]
  },
  {
   "source": [
    "- 1. 넘파이를 사용하여 다음과 같은 행렬을 만든다."
   ],
   "cell_type": "markdown",
   "metadata": {}
  },
  {
   "cell_type": "code",
   "execution_count": 3,
   "metadata": {},
   "outputs": [
    {
     "output_type": "execute_result",
     "data": {
      "text/plain": [
       "array([[10, 20, 30, 40],\n",
       "       [50, 60, 70, 80]])"
      ]
     },
     "metadata": {},
     "execution_count": 3
    }
   ],
   "source": [
    "a = np.array([[10, 20, 30, 40], [50, 60, 70, 80]])\n",
    "a"
   ]
  },
  {
   "source": [
    "- 2. 다음 행렬과 같은 행렬이 있다"
   ],
   "cell_type": "markdown",
   "metadata": {}
  },
  {
   "cell_type": "code",
   "execution_count": 5,
   "metadata": {},
   "outputs": [],
   "source": [
    "m = np.array([[0, 1, 2, 3, 4],\n",
    "                [5, 6, 7, 8, 9],\n",
    "                [10, 11, 12, 13,14]])"
   ]
  },
  {
   "source": [
    "- 1) 이 행렬에서 값 7 을 인덱싱한다."
   ],
   "cell_type": "markdown",
   "metadata": {}
  },
  {
   "cell_type": "code",
   "execution_count": 10,
   "metadata": {},
   "outputs": [
    {
     "output_type": "execute_result",
     "data": {
      "text/plain": [
       "7"
      ]
     },
     "metadata": {},
     "execution_count": 10
    }
   ],
   "source": [
    "m[1,2]"
   ]
  },
  {
   "source": [
    "- 2) 이 행렬에서 값 14 을 인덱싱한다."
   ],
   "cell_type": "markdown",
   "metadata": {}
  },
  {
   "cell_type": "code",
   "execution_count": 11,
   "metadata": {},
   "outputs": [
    {
     "output_type": "execute_result",
     "data": {
      "text/plain": [
       "14"
      ]
     },
     "metadata": {},
     "execution_count": 11
    }
   ],
   "source": [
    "m[-1,4]"
   ]
  },
  {
   "source": [
    "- 3) 이 행렬에서 배열 [6,7] 을 슬라이싱한다."
   ],
   "cell_type": "markdown",
   "metadata": {}
  },
  {
   "cell_type": "code",
   "execution_count": 18,
   "metadata": {},
   "outputs": [
    {
     "output_type": "execute_result",
     "data": {
      "text/plain": [
       "array([6, 7])"
      ]
     },
     "metadata": {},
     "execution_count": 18
    }
   ],
   "source": [
    "m[1,1:3]"
   ]
  },
  {
   "source": [
    "- 4) 이 행렬에서 배열 [7, 12] 을 슬라이싱한다."
   ],
   "cell_type": "markdown",
   "metadata": {}
  },
  {
   "cell_type": "code",
   "execution_count": 13,
   "metadata": {},
   "outputs": [
    {
     "output_type": "execute_result",
     "data": {
      "text/plain": [
       "array([ 7, 12])"
      ]
     },
     "metadata": {},
     "execution_count": 13
    }
   ],
   "source": [
    "m[1:,2]"
   ]
  },
  {
   "source": [
    "- 5) 이 행렬에서 배열 [[3, 4], [8, 9]] 을 슬라이싱한다."
   ],
   "cell_type": "markdown",
   "metadata": {}
  },
  {
   "cell_type": "code",
   "execution_count": 29,
   "metadata": {},
   "outputs": [
    {
     "output_type": "execute_result",
     "data": {
      "text/plain": [
       "array([[3, 4],\n",
       "       [8, 9]])"
      ]
     },
     "metadata": {},
     "execution_count": 29
    }
   ],
   "source": [
    "m[0:2, 3:]"
   ]
  },
  {
   "source": [
    "- 3. 2번의 행렬 m을 1차원 벡터 f로 변환한 후 다음의 문제로 푸시오."
   ],
   "cell_type": "markdown",
   "metadata": {}
  },
  {
   "cell_type": "code",
   "execution_count": 30,
   "metadata": {},
   "outputs": [],
   "source": [
    "f = np.array([0, 1, 2, 3, 4, 5, 6, 7, 8, 9, 10, 11, 12, 13, 14])"
   ]
  },
  {
   "source": [
    "- 1) 이 배열에서 3의 배수를 찾아라."
   ],
   "cell_type": "markdown",
   "metadata": {}
  },
  {
   "cell_type": "code",
   "execution_count": 31,
   "metadata": {},
   "outputs": [
    {
     "output_type": "execute_result",
     "data": {
      "text/plain": [
       "array([ 0,  3,  6,  9, 12])"
      ]
     },
     "metadata": {},
     "execution_count": 31
    }
   ],
   "source": [
    "f[f%3==0]"
   ]
  },
  {
   "source": [
    "- 2) 이 배열에서 4로 나누면 1이 남는 수를 찾아라."
   ],
   "cell_type": "markdown",
   "metadata": {}
  },
  {
   "cell_type": "code",
   "execution_count": 34,
   "metadata": {},
   "outputs": [
    {
     "output_type": "execute_result",
     "data": {
      "text/plain": [
       "array([ 1,  5,  9, 13])"
      ]
     },
     "metadata": {},
     "execution_count": 34
    }
   ],
   "source": [
    "f[f%4==1]"
   ]
  },
  {
   "source": [
    "- 3) 이 배열에서 3으로 나누면 나누어지고 4로 나누면 1이 남는 수를 찾아라."
   ],
   "cell_type": "markdown",
   "metadata": {}
  },
  {
   "cell_type": "code",
   "execution_count": 38,
   "metadata": {},
   "outputs": [
    {
     "output_type": "execute_result",
     "data": {
      "text/plain": [
       "array([9])"
      ]
     },
     "metadata": {},
     "execution_count": 38
    }
   ],
   "source": [
    "f[(f%3==0) & (f%4==1)]"
   ]
  },
  {
   "source": [
    "- 4. 값을 직접 입력하지 말고 우측의 행렬을 만드시오"
   ],
   "cell_type": "markdown",
   "metadata": {}
  },
  {
   "cell_type": "code",
   "execution_count": 55,
   "metadata": {},
   "outputs": [
    {
     "output_type": "execute_result",
     "data": {
      "text/plain": [
       "array([[2., 1., 0., 0., 0.],\n",
       "       [3., 2., 1., 0., 0.],\n",
       "       [0., 3., 2., 1., 0.],\n",
       "       [0., 0., 3., 2., 1.],\n",
       "       [0., 0., 0., 3., 2.]])"
      ]
     },
     "metadata": {},
     "execution_count": 55
    }
   ],
   "source": [
    "b1 = np.eye(5,5,1)\n",
    "b2 = np.eye(5,5) * 2\n",
    "b3 = np.eye(5,5,-1) * 3\n",
    "b = b1 + b2 + b3\n",
    "b"
   ]
  },
  {
   "source": [
    "- 5. 0에서 10까지 랜덤 실수값으로 이루어진 5 x 6 형태의 데이터 행렬을 만들고 이 데이터에\n",
    "대해 다음과 같은 값을 구하시오."
   ],
   "cell_type": "markdown",
   "metadata": {}
  },
  {
   "cell_type": "code",
   "execution_count": 7,
   "metadata": {},
   "outputs": [
    {
     "output_type": "execute_result",
     "data": {
      "text/plain": [
       "array([[3.71466189, 2.44679362, 9.62752867, 8.06005753, 6.3070975 ,\n",
       "        5.63473335],\n",
       "       [7.58999262, 3.34447522, 8.48603516, 3.4869251 , 1.98590888,\n",
       "        7.65942952],\n",
       "       [6.41144743, 7.63141921, 3.81268644, 2.96196358, 9.79183087,\n",
       "        0.48984157],\n",
       "       [4.66118827, 9.68035394, 1.30563753, 0.27037219, 7.0700185 ,\n",
       "        5.41649786],\n",
       "       [2.90871049, 6.83243208, 6.19302851, 8.79189267, 6.17831873,\n",
       "        4.62278249]])"
      ]
     },
     "metadata": {},
     "execution_count": 7
    }
   ],
   "source": [
    "c = np.random.uniform(0,10,30).reshape(5,6)\n",
    "c"
   ]
  },
  {
   "source": [
    "- 1) 전체의 최댓값"
   ],
   "cell_type": "markdown",
   "metadata": {}
  },
  {
   "cell_type": "code",
   "execution_count": 8,
   "metadata": {},
   "outputs": [
    {
     "output_type": "execute_result",
     "data": {
      "text/plain": [
       "9.791830867043133"
      ]
     },
     "metadata": {},
     "execution_count": 8
    }
   ],
   "source": [
    "np.max(c)"
   ]
  },
  {
   "source": [
    "- 2) 각 행의 합"
   ],
   "cell_type": "markdown",
   "metadata": {}
  },
  {
   "cell_type": "code",
   "execution_count": 12,
   "metadata": {},
   "outputs": [
    {
     "output_type": "execute_result",
     "data": {
      "text/plain": [
       "array([35.79087255, 32.5527665 , 31.09918909, 28.4040683 , 35.52716498])"
      ]
     },
     "metadata": {},
     "execution_count": 12
    }
   ],
   "source": [
    "np.sum(c, axis=1)"
   ]
  },
  {
   "source": [
    "- 3) 각 행의 최댓값"
   ],
   "cell_type": "markdown",
   "metadata": {}
  },
  {
   "cell_type": "code",
   "execution_count": 9,
   "metadata": {},
   "outputs": [
    {
     "output_type": "execute_result",
     "data": {
      "text/plain": [
       "array([9.62752867, 8.48603516, 9.79183087, 9.68035394, 8.79189267])"
      ]
     },
     "metadata": {},
     "execution_count": 9
    }
   ],
   "source": [
    "np.max(c, axis=1)"
   ]
  },
  {
   "source": [
    "- 4) 각 열의 평균"
   ],
   "cell_type": "markdown",
   "metadata": {}
  },
  {
   "cell_type": "code",
   "execution_count": 11,
   "metadata": {},
   "outputs": [
    {
     "output_type": "execute_result",
     "data": {
      "text/plain": [
       "array([5.05720014, 5.98709481, 5.88498326, 4.71424222, 6.26663489,\n",
       "       4.76465696])"
      ]
     },
     "metadata": {},
     "execution_count": 11
    }
   ],
   "source": [
    "np.apply_along_axis(lambda a: np.average(a), 0, c) "
   ]
  },
  {
   "source": [
    "- 5) 각 열의 최솟값"
   ],
   "cell_type": "markdown",
   "metadata": {}
  },
  {
   "cell_type": "code",
   "execution_count": 10,
   "metadata": {},
   "outputs": [
    {
     "output_type": "execute_result",
     "data": {
      "text/plain": [
       "array([2.90871049, 2.44679362, 1.30563753, 0.27037219, 1.98590888,\n",
       "       0.48984157])"
      ]
     },
     "metadata": {},
     "execution_count": 10
    }
   ],
   "source": [
    "np.apply_along_axis(lambda a: np.min(a), 0, c) "
   ]
  },
  {
   "source": [
    "- 6. 다음 배열은 첫번째 행(row)에 학번, 두번째 행에 영어 성적, 세번째 행에 수학 성적을 적은\n",
    "배열이다. 영어 성적을 기준으로 각 열(column)을 재정렬하시오."
   ],
   "cell_type": "markdown",
   "metadata": {}
  },
  {
   "cell_type": "code",
   "execution_count": 6,
   "metadata": {},
   "outputs": [
    {
     "output_type": "stream",
     "name": "stdout",
     "text": [
      "ANSWER 1\n[[  2   1   3   4]\n [ 99  46 100  71]\n [ 59  81  90 100]]\n"
     ]
    }
   ],
   "source": [
    "score=np.array([[  1,    2,    3,    4],\n",
    "                [ 46,   99,  100,   71],\n",
    "                [ 81,   59,   90,  100]])\n",
    "\n",
    "score_rank=score[2].argsort()\n",
    "scoreE=score.take(score_rank, axis=1)\n",
    "print(\"ANSWER 1\")\n",
    "print(scoreE)"
   ]
  },
  {
   "source": [
    "- 7. 주사위를 100번 던지는 가상 실험을 파이썬으로 작성하고,\n",
    "던져서 나오는 숫자의 평균을 구하시오."
   ],
   "cell_type": "markdown",
   "metadata": {}
  },
  {
   "cell_type": "code",
   "execution_count": 3,
   "metadata": {},
   "outputs": [
    {
     "output_type": "execute_result",
     "data": {
      "text/plain": [
       "3.24"
      ]
     },
     "metadata": {},
     "execution_count": 3
    }
   ],
   "source": [
    "d = np.random.randint(1, 7, size=100)\n",
    "np.average(d)"
   ]
  },
  {
   "source": [
    "- 8. 가격이 10,000원인 주식이 있다. 이 주식의 일간 수익률(%)은 기댓값이 0%이고 표준편차가 1%\n",
    "인 표준 정규 분포를 따른다고 하자. 250일 동안의 주가를 무작위로 생성하시오."
   ],
   "cell_type": "markdown",
   "metadata": {}
  },
  {
   "cell_type": "code",
   "execution_count": 3,
   "metadata": {},
   "outputs": [
    {
     "output_type": "execute_result",
     "data": {
      "text/plain": [
       "array([ 1.52377941, -0.36653512, -1.2786485 ,  0.89007287, -1.36990799,\n",
       "       -1.46307145,  1.65338716, -0.62340607,  0.03281971,  0.75729913,\n",
       "        0.04498666,  0.81680969,  0.01964877,  0.33352446,  0.47686793,\n",
       "       -0.6941358 ,  2.29513727,  0.33023981, -0.41245979, -0.87717456,\n",
       "        0.73981295, -0.52457551,  0.62507972,  1.79854045,  1.96444654,\n",
       "       -1.24220602, -1.04446393, -0.17452918,  0.73475671,  0.06790935,\n",
       "       -1.0923452 ,  0.82569716,  1.00308582,  1.28013601, -0.66718339,\n",
       "        1.50433497, -1.27116751,  0.49264902,  0.01143647,  0.10903517,\n",
       "        1.00728652,  0.17632112,  1.2777135 , -0.34165236, -0.65641564,\n",
       "        1.55609587,  0.32981078,  0.57025609, -1.42031846,  0.18178444,\n",
       "       -0.66708497,  2.02308241,  0.98948743,  1.700386  ,  1.21627713,\n",
       "       -0.36162867, -0.02286203,  0.16126265,  0.7511203 ,  0.71802651,\n",
       "        0.90273704,  1.90437309, -1.07258526, -0.01281459,  0.0413982 ,\n",
       "       -0.76009246,  1.6849151 , -0.42308146, -1.48221599, -0.6791973 ,\n",
       "       -1.13324487,  0.16281862,  0.7919058 ,  0.58525692,  1.41971183,\n",
       "        1.79811353,  1.352421  ,  0.82902965, -1.35838963,  0.63656826,\n",
       "       -0.94824314,  0.07641075, -0.32475954,  2.92182803, -0.99202965,\n",
       "       -0.08539049,  0.38530792, -1.02238805, -0.55373221,  1.07167921,\n",
       "        2.0814573 ,  1.08984462,  1.63838989, -1.10123278, -0.32756945,\n",
       "        0.36525071, -1.27687931,  0.21783692,  0.47641987,  1.45537871,\n",
       "        0.10522743,  0.18959645,  0.48260093,  0.3708127 , -0.23685524,\n",
       "       -0.45126111, -2.53605029,  0.38277274,  1.32754945,  1.84487534,\n",
       "        0.06734048, -1.33342142, -0.23562072,  0.3212513 , -0.95162115,\n",
       "        0.03646024,  2.05664962, -0.60759046,  1.18288364, -1.14621866,\n",
       "        0.14710084, -2.4528558 ,  0.29104158, -0.14298368, -1.12296539,\n",
       "        0.2891315 ,  0.06449913, -0.19224164,  0.07557981, -0.50364072,\n",
       "        0.69657621,  0.175764  ,  1.25591842, -0.18042035,  2.88537161,\n",
       "       -0.44173103, -0.72442141, -0.52369747,  0.37496041,  0.31278682,\n",
       "        0.43249226, -0.41622687, -1.50043963,  0.12152654, -0.91192724,\n",
       "        1.13037369, -0.36323664, -0.22496513,  0.0851069 ,  0.18406326,\n",
       "       -0.06646195, -0.22211004, -0.97832151,  0.41013683,  1.99220969,\n",
       "       -1.04500203,  0.39173464,  0.96334011, -0.51675966,  0.11238268,\n",
       "       -0.77302002, -0.51868078, -0.84065331, -0.84302149,  0.40048671,\n",
       "       -1.00771324, -1.31451334,  0.76378183, -0.64744447, -1.41062448,\n",
       "        0.15004013,  0.96130263,  1.2194086 ,  1.29347497, -1.3547425 ,\n",
       "        1.370343  ,  0.94973128,  1.37670365,  0.94966413,  0.21331702,\n",
       "       -0.86898571, -0.44537926,  1.46126492,  0.23731701, -2.40482905,\n",
       "        0.60892786,  0.5667674 ,  0.38453925, -0.57067293,  0.20903478,\n",
       "       -0.87332367, -0.09389198, -2.39034573,  0.61075591, -0.97648168,\n",
       "       -1.45161229,  0.64588415, -1.57514913, -0.58875712,  2.22960632,\n",
       "       -2.53835505, -0.30978314, -2.21231206, -0.05782158, -0.74722463,\n",
       "       -0.0844877 , -0.7644565 ,  1.12638227, -0.2474988 ,  0.30707864,\n",
       "        0.99012284, -0.21675276,  0.87768408,  1.79217715, -0.32522354,\n",
       "       -1.44619297,  0.92001988, -0.22557847, -0.24293443,  0.0443752 ,\n",
       "       -0.27342504,  1.97145569, -0.75387227, -2.16098801,  1.08598356,\n",
       "        1.13393823,  0.11033271, -0.98287325,  0.32536871, -0.47782356,\n",
       "       -0.01297456, -1.4388003 ,  0.31375338,  1.66851237, -0.14413886,\n",
       "        0.20990918, -0.02265433, -0.8167016 , -0.21943902,  1.14897313,\n",
       "        0.25562949, -1.368079  ,  0.76586339,  0.71408391, -1.07708578,\n",
       "       -1.04777345,  1.28661285, -0.63402812,  1.29140116,  0.39265448])"
      ]
     },
     "metadata": {},
     "execution_count": 3
    }
   ],
   "source": [
    "np.random.randn(250)"
   ]
  }
 ]
}